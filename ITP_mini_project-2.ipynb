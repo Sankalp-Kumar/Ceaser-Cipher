{
 "cells": [
  {
   "cell_type": "markdown",
   "metadata": {},
   "source": [
    "### Problem Statement:\n",
    "\n",
    "Create and encrypter in python based on the ceaser cipher. It is a substitution cipher where each character of the original text is shifted a certain number characters in the alphabet. Write a function that would require 2 arguments – the input text to be encrypted and a key. For eg: Given the input text ‘hello’ and the key 3, the resulting encryted text would be ‘khoor’. Here you can see that every character in the string hello is shifted by 3 characters. ‘h’ has shifted to ‘k’, ‘e’ has shifted to ‘h’ and so on. If a key of 5 were used, the resulting string would be ‘mjqqt’. This function should be capable of ignoring any characters which are not alphabets. Th2 character ‘z’ entered b\n",
    "y the user for a key of 3 would result in ‘c’.\n",
    "\n",
    "Usage:<br>\n",
    "**encrypt(‘hello world!’, 3)**<br>\n",
    "**‘khoor zruog!’**\n",
    "\n",
    "Similarly create decrypter which can decode the encryted text when provided the input text and key\n",
    "\n",
    "Usage:<br>\n",
    "**decrypt(‘khoor zruog!’, 3)**<br>\n",
    "**‘hello world!’**\n",
    "\n"
   ]
  },
  {
   "cell_type": "code",
   "execution_count": 4,
   "metadata": {},
   "outputs": [
    {
     "name": "stdout",
     "output_type": "stream",
     "text": [
      "\"Would you like to encrypt the text or decrypt the text ? Please enter the option number-\n",
      "1. Encryption\n",
      "2. decryption\n",
      "Enter Option: _ 1\n",
      "Please enter the string :Python programming!\n",
      "please enter the key value :4\n",
      "The encrypted text is : tcxlsr tvskveqqmrk!\n"
     ]
    }
   ],
   "source": [
    "def encrypt():\n",
    "    string = input(\"Please enter the string :\")\n",
    "    key =input(\"please enter the key value :\")\n",
    "    result = \"\"\n",
    "    if key.isalpha():\n",
    "        print(\"Key value should be a number, you entered an invalid input.\")\n",
    "       \n",
    "    else:\n",
    "        for i in string:\n",
    "            if i.isalpha():\n",
    "                result+= chr((ord(i.lower()) +int(key)-97) % 26 + 97) \n",
    "            else :\n",
    "                result+=i\n",
    "    return result\n",
    "\n",
    "def decrypt():\n",
    "    result = \"\"\n",
    "    string = input(\"Please enter the string :\")\n",
    "    key =input(\"please enter the key value :\")\n",
    "    \n",
    "    if key.isalpha():\n",
    "        print(\"Key value should be a number, you entered an invalid input.\")\n",
    "    else :\n",
    "        \n",
    "        for i in string:\n",
    "            if i.isalpha():\n",
    "                result+= chr((ord(i.lower()) -int(key)-97) % 26 + 97) \n",
    "            else :\n",
    "                result+=i\n",
    "    return result\n",
    "\n",
    "\n",
    "option = input((\"\"\"\"Would you like to encrypt the text or decrypt the text ? Please enter the option number-\n",
    "1. Encryption\n",
    "2. decryption\n",
    "Enter Option: _ \"\"\"))\n",
    "\n",
    "if option == str(\"1\"):\n",
    "    \n",
    "    print(\"The encrypted text is :\", encrypt())\n",
    "elif option == str(\"2\"):\n",
    "    \n",
    "    print(\"The decrypted text is :\", decrypt())\n",
    "else :\n",
    "    print(\"Invalid input, please select the option either 1 or 2: _\")"
   ]
  }
 ],
 "metadata": {
  "kernelspec": {
   "display_name": "Python 3",
   "language": "python",
   "name": "python3"
  },
  "language_info": {
   "codemirror_mode": {
    "name": "ipython",
    "version": 3
   },
   "file_extension": ".py",
   "mimetype": "text/x-python",
   "name": "python",
   "nbconvert_exporter": "python",
   "pygments_lexer": "ipython3",
   "version": "3.7.6"
  }
 },
 "nbformat": 4,
 "nbformat_minor": 2
}
